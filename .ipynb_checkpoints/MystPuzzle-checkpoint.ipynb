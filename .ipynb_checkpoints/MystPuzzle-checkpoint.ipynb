{
 "cells": [
  {
   "cell_type": "code",
   "execution_count": 3,
   "metadata": {
    "collapsed": true
   },
   "outputs": [],
   "source": [
    "import networkx as nx\n",
    "import numpy as np\n",
    "import random as rand\n",
    "import matplotlib.pyplot as plt\n",
    "from itertools import count, product"
   ]
  },
  {
   "cell_type": "code",
   "execution_count": 4,
   "metadata": {
    "collapsed": true
   },
   "outputs": [],
   "source": [
    "%matplotlib inline"
   ]
  },
  {
   "cell_type": "markdown",
   "metadata": {},
   "source": [
    "Global Variables\n",
    "\n",
    "Generally, designate the number of nodes as n and the number of colors as c."
   ]
  },
  {
   "cell_type": "code",
   "execution_count": 28,
   "metadata": {
    "collapsed": true
   },
   "outputs": [],
   "source": [
    "num_nodes = 6\n",
    "num_colors = 3\n",
    "\n",
    "current_node = 1\n",
    "previous_node = 0"
   ]
  },
  {
   "cell_type": "markdown",
   "metadata": {},
   "source": [
    "Functions:"
   ]
  },
  {
   "cell_type": "code",
   "execution_count": 6,
   "metadata": {
    "collapsed": true
   },
   "outputs": [],
   "source": [
    "def iterate_color(G, node):\n",
    "    current_color = nx.get_node_attributes(G, 'color')[node]\n",
    "    new_color = (current_color + 1) % num_colors\n",
    "    nx.set_node_attributes(G, {node : {'color' : new_color}})"
   ]
  },
  {
   "cell_type": "code",
   "execution_count": 7,
   "metadata": {
    "collapsed": true
   },
   "outputs": [],
   "source": [
    "def reverse_iterate_color(G, node):\n",
    "    current_color = nx.get_node_attributes(G, 'color')[node]\n",
    "    new_color = (current_color - 1) % num_colors\n",
    "    nx.set_node_attributes(G, {node : {'color' : new_color}})"
   ]
  },
  {
   "cell_type": "code",
   "execution_count": 8,
   "metadata": {
    "collapsed": true
   },
   "outputs": [],
   "source": [
    "def backtrack(G, start_node, end_node):\n",
    "    \"\"\"Simulate a step in the puzzle, but backwards,\n",
    "    reverse-iterating the color of the end node.\n",
    "    \n",
    "    Args:\n",
    "        G (networkx.Graph): graph representing the puzzle.\n",
    "        start_node (int): the node the step began from.\n",
    "        end_node (int): the node the step ended on.\n",
    "        \n",
    "    Returns:\n",
    "        bool : True if the backtrack was successful, False otherwise \n",
    "        (usually only if start_node is the same as previous_node)\n",
    "    \"\"\"\n",
    "    global current_node, previous_node\n",
    "    if(start_node == previous_node):\n",
    "        return False\n",
    "    current_node = start_node\n",
    "    previous_node = end_node\n",
    "    reverse_iterate_color(G, end_node)\n",
    "    return True"
   ]
  },
  {
   "cell_type": "code",
   "execution_count": 9,
   "metadata": {
    "collapsed": true
   },
   "outputs": [],
   "source": [
    "def set_all_colors(G, new_colors):\n",
    "    new_color_dict = dict(enumerate([{'color' : color} for color in new_colors]))\n",
    "    nx.set_node_attributes(G, new_color_dict)"
   ]
  },
  {
   "cell_type": "code",
   "execution_count": 59,
   "metadata": {},
   "outputs": [],
   "source": [
    "def find_solvable_configs(G, num_steps, final_node):\n",
    "    set_all_colors(G, all_configs[0])\n",
    "    solvable_configs = set()\n",
    "    solvable_configs.add(tuple(nx.get_node_attributes(G, 'color').values())) #solved configuration in set\n",
    "    global current_node, previous_node \n",
    "    current_node = final_node\n",
    "    previous_node = final_node #since we're looking for all solvable configs, player could have come to final node from anywhere, so doesn't matter\n",
    "    i = 0\n",
    "    while i < num_steps:\n",
    "        next_node = rand.randint(0, num_nodes - 1)\n",
    "        #generate a new random direction until it's a valid backtrack from the current node\n",
    "        while (current_node, next_node) not in G.edges():\n",
    "            next_node = rand.randint(0, num_nodes - 1)\n",
    "        #if backtracking to the next node would be a repeat movement, try again\n",
    "        if(not backtrack(G, next_node, current_node)):\n",
    "            continue\n",
    "        current_config = tuple(nx.get_node_attributes(G, 'color').values())\n",
    "        solvable_configs.add(current_config)\n",
    "        i += 1\n",
    "    return solvable_configs"
   ]
  },
  {
   "cell_type": "markdown",
   "metadata": {},
   "source": [
    "Initialize graph in solved configuration:"
   ]
  },
  {
   "cell_type": "code",
   "execution_count": 10,
   "metadata": {
    "collapsed": true
   },
   "outputs": [],
   "source": [
    "G = nx.Graph()\n",
    "G.add_nodes_from(np.arange(num_nodes))\n",
    "nx.set_node_attributes(G, 0, name = 'color')\n",
    "edge_list = [(0, 1), (0, 2), (1, 2), (1, 3), (2, 3), (2, 4), (2, 5), (3, 5), (4, 5)]\n",
    "G.add_edges_from(edge_list)"
   ]
  },
  {
   "cell_type": "markdown",
   "metadata": {},
   "source": [
    "Visualizing the solved puzzle (all colors are 0):"
   ]
  },
  {
   "cell_type": "code",
   "execution_count": 11,
   "metadata": {},
   "outputs": [
    {
     "data": {
      "image/png": "[encoded data removed]",
      "text/plain": [
       "<matplotlib.figure.Figure at 0x1a4529a8438>"
      ]
     },
     "metadata": {},
     "output_type": "display_data"
    }
   ],
   "source": [
    "colors = set(nx.get_node_attributes(G, 'color').values())\n",
    "mapping = dict(zip(sorted(colors), count()))\n",
    "nodes = G.nodes()\n",
    "colors = [mapping[G.node[n]['color']] for n in nodes]\n",
    "\n",
    "pos = nx.spring_layout(G)\n",
    "nx.draw_networkx_edges(G, pos)\n",
    "nc = nx.draw_networkx_nodes(G, pos, nodelist=nodes, node_color=colors, \n",
    "                            with_labels=True, cmap=plt.cm.jet)\n",
    "labels = nx.draw_networkx_labels(G, pos)\n",
    "plt.colorbar(nc)\n",
    "plt.show()"
   ]
  },
  {
   "cell_type": "markdown",
   "metadata": {},
   "source": [
    "We generate the set of all possible n-tuples with elements drawn from ZZ_c:"
   ]
  },
  {
   "cell_type": "code",
   "execution_count": 12,
   "metadata": {
    "collapsed": true
   },
   "outputs": [],
   "source": [
    "all_configs = list(product(range(0, num_colors), repeat = num_nodes))"
   ]
  },
  {
   "cell_type": "markdown",
   "metadata": {},
   "source": [
    "The number of possible configurations is equal to c^n:"
   ]
  },
  {
   "cell_type": "code",
   "execution_count": 13,
   "metadata": {},
   "outputs": [
    {
     "data": {
      "text/plain": [
       "729"
      ]
     },
     "execution_count": 13,
     "metadata": {},
     "output_type": "execute_result"
    }
   ],
   "source": [
    "num_configs = len(all_configs)\n",
    "num_configs"
   ]
  },
  {
   "cell_type": "markdown",
   "metadata": {},
   "source": [
    "Grabbing a random configuration:"
   ]
  },
  {
   "cell_type": "code",
   "execution_count": 22,
   "metadata": {},
   "outputs": [
    {
     "data": {
      "text/plain": [
       "(0, 1, 2, 2, 2, 0)"
      ]
     },
     "execution_count": 22,
     "metadata": {},
     "output_type": "execute_result"
    }
   ],
   "source": [
    "selected = all_configs[rand.randint(0, num_configs - 1)]\n",
    "selected"
   ]
  },
  {
   "cell_type": "code",
   "execution_count": 23,
   "metadata": {
    "collapsed": true
   },
   "outputs": [],
   "source": [
    "set_all_colors(G, selected)"
   ]
  },
  {
   "cell_type": "code",
   "execution_count": 24,
   "metadata": {},
   "outputs": [
    {
     "data": {
      "image/png": "[encoded data removed]",
      "text/plain": [
       "<matplotlib.figure.Figure at 0x1a455e966a0>"
      ]
     },
     "metadata": {},
     "output_type": "display_data"
    }
   ],
   "source": [
    "colors = set(nx.get_node_attributes(G, 'color').values())\n",
    "mapping = dict(zip(sorted(colors), count()))\n",
    "nodes = G.nodes()\n",
    "colors = [mapping[G.node[n]['color']] for n in nodes]\n",
    "\n",
    "pos = nx.spring_layout(G)\n",
    "nx.draw_networkx_edges(G, pos)\n",
    "nc = nx.draw_networkx_nodes(G, pos, nodelist=nodes, node_color=colors, \n",
    "                            with_labels=True, cmap=plt.cm.jet)\n",
    "labels = nx.draw_networkx_labels(G, pos)\n",
    "plt.colorbar(nc)\n",
    "plt.show()"
   ]
  },
  {
   "cell_type": "markdown",
   "metadata": {},
   "source": [
    "Random backtracking: starting from solved configuration, repeatedly backtrack in random directions, adding each new configuration to the set of solvable configurations. Since each backtrack configuration is reachable from the solved configuration, it's solvable."
   ]
  },
  {
   "cell_type": "code",
   "execution_count": 66,
   "metadata": {},
   "outputs": [
    {
     "data": {
      "text/plain": [
       "729"
      ]
     },
     "execution_count": 66,
     "metadata": {},
     "output_type": "execute_result"
    }
   ],
   "source": [
    "solvable = find_solvable_configs(G, 10000, 0)\n",
    "len(solvable)"
   ]
  },
  {
   "cell_type": "markdown",
   "metadata": {},
   "source": [
    "Now test on a puzzle we know shouldn't be 100% solvable:"
   ]
  },
  {
   "cell_type": "code",
   "execution_count": 67,
   "metadata": {
    "collapsed": true
   },
   "outputs": [],
   "source": [
    "num_nodes = 3\n",
    "num_colors = 3"
   ]
  },
  {
   "cell_type": "code",
   "execution_count": 72,
   "metadata": {
    "collapsed": true
   },
   "outputs": [],
   "source": [
    "G2 = nx.Graph()\n",
    "G2.add_nodes_from(np.arange(num_nodes))\n",
    "nx.set_node_attributes(G2, 0, name = 'color')\n",
    "edge_list = [(0, 1), (1, 2), (2, 0)]\n",
    "G2.add_edges_from(edge_list)"
   ]
  },
  {
   "cell_type": "code",
   "execution_count": 73,
   "metadata": {
    "collapsed": true
   },
   "outputs": [],
   "source": [
    "def draw_current_config(G):\n",
    "    colors = set(nx.get_node_attributes(G, 'color').values())\n",
    "    mapping = dict(zip(sorted(colors), count()))\n",
    "    nodes = G.nodes()\n",
    "    colors = [mapping[G.node[n]['color']] for n in nodes]\n",
    "\n",
    "    pos = nx.spring_layout(G)\n",
    "    nx.draw_networkx_edges(G, pos)\n",
    "    nc = nx.draw_networkx_nodes(G, pos, nodelist=nodes, node_color=colors, \n",
    "                                with_labels=True, cmap=plt.cm.jet)\n",
    "    labels = nx.draw_networkx_labels(G, pos)\n",
    "    plt.colorbar(nc)\n",
    "    plt.show()"
   ]
  },
  {
   "cell_type": "code",
   "execution_count": 74,
   "metadata": {},
   "outputs": [
    {
     "data": {
      "image/png": "[encoded data removed]",
      "text/plain": [
       "<matplotlib.figure.Figure at 0x1a45618b470>"
      ]
     },
     "metadata": {},
     "output_type": "display_data"
    }
   ],
   "source": [
    "draw_current_config(G2)"
   ]
  },
  {
   "cell_type": "code",
   "execution_count": 75,
   "metadata": {},
   "outputs": [
    {
     "data": {
      "text/plain": [
       "27"
      ]
     },
     "execution_count": 75,
     "metadata": {},
     "output_type": "execute_result"
    }
   ],
   "source": [
    "all_configs = list(product(range(0, num_colors), repeat = num_nodes))\n",
    "len(all_configs)"
   ]
  },
  {
   "cell_type": "code",
   "execution_count": 84,
   "metadata": {},
   "outputs": [
    {
     "data": {
      "text/plain": [
       "9"
      ]
     },
     "execution_count": 84,
     "metadata": {},
     "output_type": "execute_result"
    }
   ],
   "source": [
    "solvable = find_solvable_configs(G2, 1000, 0)\n",
    "len(solvable)"
   ]
  },
  {
   "cell_type": "markdown",
   "metadata": {},
   "source": [
    "Find which configurations are unsolvable:"
   ]
  },
  {
   "cell_type": "code",
   "execution_count": 88,
   "metadata": {},
   "outputs": [
    {
     "data": {
      "text/plain": [
       "18"
      ]
     },
     "execution_count": 88,
     "metadata": {},
     "output_type": "execute_result"
    }
   ],
   "source": [
    "unsolvable = set(all_configs) - solvable\n",
    "len(unsolvable)"
   ]
  },
  {
   "cell_type": "code",
   "execution_count": null,
   "metadata": {
    "collapsed": true
   },
   "outputs": [],
   "source": []
  }
 ],
 "metadata": {
  "kernelspec": {
   "display_name": "Python 3",
   "language": "python",
   "name": "python3"
  },
  "language_info": {
   "codemirror_mode": {
    "name": "ipython",
    "version": 3
   },
   "file_extension": ".py",
   "mimetype": "text/x-python",
   "name": "python",
   "nbconvert_exporter": "python",
   "pygments_lexer": "ipython3",
   "version": "3.6.2"
  }
 },
 "nbformat": 4,
 "nbformat_minor": 2
}
