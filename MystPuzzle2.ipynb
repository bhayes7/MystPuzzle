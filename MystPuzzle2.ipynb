{
 "cells": [
  {
   "cell_type": "code",
   "execution_count": 1,
   "metadata": {
    "collapsed": true
   },
   "outputs": [],
   "source": [
    "import myst_classes as mc\n",
    "\n",
    "import networkx as nx\n",
    "import re\n",
    "import numpy as np\n",
    "import pandas as pd\n",
    "import random as rand\n",
    "import matplotlib.pyplot as plt\n",
    "from itertools import count, product"
   ]
  },
  {
   "cell_type": "markdown",
   "metadata": {},
   "source": [
    "# 0: Preliminaries"
   ]
  },
  {
   "cell_type": "markdown",
   "metadata": {},
   "source": [
    "First we read in the edge lists (for graphs with 4, 5, 6, 7, and 8 vertices) and construct networkx objects for all of the graphs:"
   ]
  },
  {
   "cell_type": "code",
   "execution_count": 2,
   "metadata": {
    "collapsed": true
   },
   "outputs": [],
   "source": [
    "graphs = pd.read_csv('all_graphs.txt')"
   ]
  },
  {
   "cell_type": "code",
   "execution_count": 3,
   "metadata": {
    "collapsed": true
   },
   "outputs": [],
   "source": [
    "graphs['Edges'] = [eval(edge_list) for edge_list in graphs['Edges']]"
   ]
  },
  {
   "cell_type": "code",
   "execution_count": 4,
   "metadata": {
    "collapsed": true
   },
   "outputs": [],
   "source": [
    "def build_graph(num_nodes, edge_list):\n",
    "    G = nx.Graph()\n",
    "    G.add_nodes_from(np.arange(num_nodes))\n",
    "    nx.set_node_attributes(G, 0, name = 'color')\n",
    "    G.add_edges_from(edge_list)\n",
    "    return(G)\n",
    "\n",
    "graphs['Graph_Objects'] = [build_graph(num_nodes, edge_list) for num_nodes, edge_list in zip(graphs['Num_Nodes'], graphs['Edges'])]"
   ]
  },
  {
   "cell_type": "markdown",
   "metadata": {},
   "source": [
    "Now we find the minimum degree in each graph and separate out those with a minimum degree of 1 (invalid graphs):"
   ]
  },
  {
   "cell_type": "code",
   "execution_count": 5,
   "metadata": {
    "collapsed": true
   },
   "outputs": [],
   "source": [
    "def min_degree(G):\n",
    "    return(min([tup[1] for tup in list(G.degree(np.arange(G.number_of_nodes())))]))\n",
    "\n",
    "graphs['Min_Degree'] = [min_degree(G) for G in graphs['Graph_Objects']]"
   ]
  },
  {
   "cell_type": "code",
   "execution_count": 6,
   "metadata": {
    "collapsed": true
   },
   "outputs": [],
   "source": [
    "valid_graphs = graphs[graphs.Min_Degree > 1].copy()\n",
    "invalid_graphs = graphs[graphs.Min_Degree == 1].copy()"
   ]
  },
  {
   "cell_type": "markdown",
   "metadata": {},
   "source": [
    "Now separate the valid graphs by number of vertices:"
   ]
  },
  {
   "cell_type": "code",
   "execution_count": 7,
   "metadata": {
    "collapsed": true
   },
   "outputs": [],
   "source": [
    "four_graphs = valid_graphs[valid_graphs.Num_Nodes == 4].copy()\n",
    "five_graphs = valid_graphs[valid_graphs.Num_Nodes == 5].copy()\n",
    "six_graphs = valid_graphs[valid_graphs.Num_Nodes == 6].copy()\n",
    "seven_graphs = valid_graphs[valid_graphs.Num_Nodes == 7].copy()\n",
    "eight_graphs = valid_graphs[valid_graphs.Num_Nodes == 8].copy()"
   ]
  },
  {
   "cell_type": "markdown",
   "metadata": {},
   "source": [
    "# 1: Finding Solvable Configurations"
   ]
  },
  {
   "cell_type": "markdown",
   "metadata": {},
   "source": []
  },
  {
   "cell_type": "code",
   "execution_count": 8,
   "metadata": {},
   "outputs": [
    {
     "data": {
      "text/html": [
       "<div>\n",
       "<style scoped>\n",
       "    .dataframe tbody tr th:only-of-type {\n",
       "        vertical-align: middle;\n",
       "    }\n",
       "\n",
       "    .dataframe tbody tr th {\n",
       "        vertical-align: top;\n",
       "    }\n",
       "\n",
       "    .dataframe thead th {\n",
       "        text-align: right;\n",
       "    }\n",
       "</style>\n",
       "<table border=\"1\" class=\"dataframe\">\n",
       "  <thead>\n",
       "    <tr style=\"text-align: right;\">\n",
       "      <th></th>\n",
       "      <th>Name</th>\n",
       "      <th>Edges</th>\n",
       "      <th>Num_Nodes</th>\n",
       "      <th>Num_Edges</th>\n",
       "      <th>Graph_Objects</th>\n",
       "      <th>Min_Degree</th>\n",
       "    </tr>\n",
       "  </thead>\n",
       "  <tbody>\n",
       "    <tr>\n",
       "      <th>3</th>\n",
       "      <td>Graph 4-4</td>\n",
       "      <td>[(0, 2), (0, 3), (1, 2), (1, 3)]</td>\n",
       "      <td>4</td>\n",
       "      <td>4</td>\n",
       "      <td>(0, 1, 2, 3)</td>\n",
       "      <td>2</td>\n",
       "    </tr>\n",
       "  </tbody>\n",
       "</table>\n",
       "</div>"
      ],
      "text/plain": [
       "        Name                             Edges  Num_Nodes  Num_Edges  \\\n",
       "3  Graph 4-4  [(0, 2), (0, 3), (1, 2), (1, 3)]          4          4   \n",
       "\n",
       "  Graph_Objects  Min_Degree  \n",
       "3  (0, 1, 2, 3)           2  "
      ]
     },
     "execution_count": 8,
     "metadata": {},
     "output_type": "execute_result"
    }
   ],
   "source": [
    "four_graphs[four_graphs['Num_Edges'] == 4]"
   ]
  },
  {
   "cell_type": "code",
   "execution_count": 9,
   "metadata": {},
   "outputs": [
    {
     "data": {
      "text/html": [
       "<div>\n",
       "<style scoped>\n",
       "    .dataframe tbody tr th:only-of-type {\n",
       "        vertical-align: middle;\n",
       "    }\n",
       "\n",
       "    .dataframe tbody tr th {\n",
       "        vertical-align: top;\n",
       "    }\n",
       "\n",
       "    .dataframe thead th {\n",
       "        text-align: right;\n",
       "    }\n",
       "</style>\n",
       "<table border=\"1\" class=\"dataframe\">\n",
       "  <thead>\n",
       "    <tr style=\"text-align: right;\">\n",
       "      <th></th>\n",
       "      <th>Name</th>\n",
       "      <th>Edges</th>\n",
       "      <th>Num_Nodes</th>\n",
       "      <th>Num_Edges</th>\n",
       "      <th>Graph_Objects</th>\n",
       "      <th>Min_Degree</th>\n",
       "    </tr>\n",
       "  </thead>\n",
       "  <tbody>\n",
       "    <tr>\n",
       "      <th>19</th>\n",
       "      <td>Graph 5-14</td>\n",
       "      <td>[(0, 2), (0, 3), (1, 3), (1, 4), (2, 4)]</td>\n",
       "      <td>5</td>\n",
       "      <td>5</td>\n",
       "      <td>(0, 1, 2, 3, 4)</td>\n",
       "      <td>2</td>\n",
       "    </tr>\n",
       "  </tbody>\n",
       "</table>\n",
       "</div>"
      ],
      "text/plain": [
       "          Name                                     Edges  Num_Nodes  \\\n",
       "19  Graph 5-14  [(0, 2), (0, 3), (1, 3), (1, 4), (2, 4)]          5   \n",
       "\n",
       "    Num_Edges    Graph_Objects  Min_Degree  \n",
       "19          5  (0, 1, 2, 3, 4)           2  "
      ]
     },
     "execution_count": 9,
     "metadata": {},
     "output_type": "execute_result"
    }
   ],
   "source": [
    "five_graphs[five_graphs['Num_Edges'] == 5]"
   ]
  },
  {
   "cell_type": "code",
   "execution_count": 10,
   "metadata": {},
   "outputs": [
    {
     "data": {
      "text/html": [
       "<div>\n",
       "<style scoped>\n",
       "    .dataframe tbody tr th:only-of-type {\n",
       "        vertical-align: middle;\n",
       "    }\n",
       "\n",
       "    .dataframe tbody tr th {\n",
       "        vertical-align: top;\n",
       "    }\n",
       "\n",
       "    .dataframe thead th {\n",
       "        text-align: right;\n",
       "    }\n",
       "</style>\n",
       "<table border=\"1\" class=\"dataframe\">\n",
       "  <thead>\n",
       "    <tr style=\"text-align: right;\">\n",
       "      <th></th>\n",
       "      <th>Name</th>\n",
       "      <th>Edges</th>\n",
       "      <th>Num_Nodes</th>\n",
       "      <th>Num_Edges</th>\n",
       "      <th>Graph_Objects</th>\n",
       "      <th>Min_Degree</th>\n",
       "    </tr>\n",
       "  </thead>\n",
       "  <tbody>\n",
       "    <tr>\n",
       "      <th>73</th>\n",
       "      <td>Graph 6-47</td>\n",
       "      <td>[(0, 3), (0, 4), (1, 3), (1, 5), (2, 4), (2, 5)]</td>\n",
       "      <td>6</td>\n",
       "      <td>6</td>\n",
       "      <td>(0, 1, 2, 3, 4, 5)</td>\n",
       "      <td>2</td>\n",
       "    </tr>\n",
       "  </tbody>\n",
       "</table>\n",
       "</div>"
      ],
      "text/plain": [
       "          Name                                             Edges  Num_Nodes  \\\n",
       "73  Graph 6-47  [(0, 3), (0, 4), (1, 3), (1, 5), (2, 4), (2, 5)]          6   \n",
       "\n",
       "    Num_Edges       Graph_Objects  Min_Degree  \n",
       "73          6  (0, 1, 2, 3, 4, 5)           2  "
      ]
     },
     "execution_count": 10,
     "metadata": {},
     "output_type": "execute_result"
    }
   ],
   "source": [
    "six_graphs[six_graphs['Num_Edges'] == 6]"
   ]
  },
  {
   "cell_type": "code",
   "execution_count": 11,
   "metadata": {},
   "outputs": [
    {
     "data": {
      "text/html": [
       "<div>\n",
       "<style scoped>\n",
       "    .dataframe tbody tr th:only-of-type {\n",
       "        vertical-align: middle;\n",
       "    }\n",
       "\n",
       "    .dataframe tbody tr th {\n",
       "        vertical-align: top;\n",
       "    }\n",
       "\n",
       "    .dataframe thead th {\n",
       "        text-align: right;\n",
       "    }\n",
       "</style>\n",
       "<table border=\"1\" class=\"dataframe\">\n",
       "  <thead>\n",
       "    <tr style=\"text-align: right;\">\n",
       "      <th></th>\n",
       "      <th>Name</th>\n",
       "      <th>Edges</th>\n",
       "      <th>Num_Nodes</th>\n",
       "      <th>Num_Edges</th>\n",
       "      <th>Graph_Objects</th>\n",
       "      <th>Min_Degree</th>\n",
       "    </tr>\n",
       "  </thead>\n",
       "  <tbody>\n",
       "    <tr>\n",
       "      <th>560</th>\n",
       "      <td>Graph 7-422</td>\n",
       "      <td>[(0, 3), (0, 4), (1, 4), (1, 5), (2, 5), (2, 6...</td>\n",
       "      <td>7</td>\n",
       "      <td>7</td>\n",
       "      <td>(0, 1, 2, 3, 4, 5, 6)</td>\n",
       "      <td>2</td>\n",
       "    </tr>\n",
       "  </tbody>\n",
       "</table>\n",
       "</div>"
      ],
      "text/plain": [
       "            Name                                              Edges  \\\n",
       "560  Graph 7-422  [(0, 3), (0, 4), (1, 4), (1, 5), (2, 5), (2, 6...   \n",
       "\n",
       "     Num_Nodes  Num_Edges          Graph_Objects  Min_Degree  \n",
       "560          7          7  (0, 1, 2, 3, 4, 5, 6)           2  "
      ]
     },
     "execution_count": 11,
     "metadata": {},
     "output_type": "execute_result"
    }
   ],
   "source": [
    "seven_graphs[seven_graphs['Num_Edges'] == 7]"
   ]
  },
  {
   "cell_type": "code",
   "execution_count": 19,
   "metadata": {
    "scrolled": true
   },
   "outputs": [
    {
     "data": {
      "text/html": [
       "<div>\n",
       "<style scoped>\n",
       "    .dataframe tbody tr th:only-of-type {\n",
       "        vertical-align: middle;\n",
       "    }\n",
       "\n",
       "    .dataframe tbody tr th {\n",
       "        vertical-align: top;\n",
       "    }\n",
       "\n",
       "    .dataframe thead th {\n",
       "        text-align: right;\n",
       "    }\n",
       "</style>\n",
       "<table border=\"1\" class=\"dataframe\">\n",
       "  <thead>\n",
       "    <tr style=\"text-align: right;\">\n",
       "      <th></th>\n",
       "      <th>Name</th>\n",
       "      <th>Edges</th>\n",
       "      <th>Num_Nodes</th>\n",
       "      <th>Num_Edges</th>\n",
       "      <th>Graph_Objects</th>\n",
       "      <th>Min_Degree</th>\n",
       "    </tr>\n",
       "  </thead>\n",
       "  <tbody>\n",
       "    <tr>\n",
       "      <th>3906</th>\n",
       "      <td>Graph 8-2915</td>\n",
       "      <td>[(0, 4), (0, 5), (1, 4), (1, 6), (2, 5), (2, 7...</td>\n",
       "      <td>8</td>\n",
       "      <td>8</td>\n",
       "      <td>(0, 1, 2, 3, 4, 5, 6, 7)</td>\n",
       "      <td>2</td>\n",
       "    </tr>\n",
       "  </tbody>\n",
       "</table>\n",
       "</div>"
      ],
      "text/plain": [
       "              Name                                              Edges  \\\n",
       "3906  Graph 8-2915  [(0, 4), (0, 5), (1, 4), (1, 6), (2, 5), (2, 7...   \n",
       "\n",
       "      Num_Nodes  Num_Edges             Graph_Objects  Min_Degree  \n",
       "3906          8          8  (0, 1, 2, 3, 4, 5, 6, 7)           2  "
      ]
     },
     "execution_count": 19,
     "metadata": {},
     "output_type": "execute_result"
    }
   ],
   "source": [
    "eight_graphs[eight_graphs['Num_Edges'] == 8]"
   ]
  },
  {
   "cell_type": "code",
   "execution_count": 13,
   "metadata": {},
   "outputs": [],
   "source": [
    "# graph4_4 = graph_solver(four_graphs.loc[3, 'Edges'], 4, 2)"
   ]
  },
  {
   "cell_type": "markdown",
   "metadata": {},
   "source": [
    "# Sandbox"
   ]
  },
  {
   "cell_type": "code",
   "execution_count": 14,
   "metadata": {},
   "outputs": [
    {
     "data": {
      "text/plain": [
       "2000"
      ]
     },
     "execution_count": 14,
     "metadata": {},
     "output_type": "execute_result"
    }
   ],
   "source": [
    "import sys\n",
    "sys.getrecursionlimit()"
   ]
  },
  {
   "cell_type": "code",
   "execution_count": 15,
   "metadata": {
    "collapsed": true
   },
   "outputs": [],
   "source": [
    "colors_list = [2, 3, 4, 5, 6, 7]"
   ]
  }
 ],
 "metadata": {
  "kernelspec": {
   "display_name": "Python 3",
   "language": "python",
   "name": "python3"
  },
  "language_info": {
   "codemirror_mode": {
    "name": "ipython",
    "version": 3
   },
   "file_extension": ".py",
   "mimetype": "text/x-python",
   "name": "python",
   "nbconvert_exporter": "python",
   "pygments_lexer": "ipython3",
   "version": "3.6.2"
  }
 },
 "nbformat": 4,
 "nbformat_minor": 2
}
